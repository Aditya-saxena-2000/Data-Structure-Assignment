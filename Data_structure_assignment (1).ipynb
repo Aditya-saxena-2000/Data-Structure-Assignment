{
  "nbformat": 4,
  "nbformat_minor": 0,
  "metadata": {
    "colab": {
      "provenance": []
    },
    "kernelspec": {
      "name": "python3",
      "display_name": "Python 3"
    },
    "language_info": {
      "name": "python"
    }
  },
  "cells": [
    {
      "cell_type": "markdown",
      "source": [
        " Q.1 Discuss string slicing and provide examples.\n",
        "\n",
        " Ans.String slicing is a feature that allows you to access and manipulate specific parts of a string. It’s like having a precise knife to cut out any part of a string you need. For more advanced methods and in-depth understanding, continue reading the article.string slicing is a technique to extract certain parts of a string. It’s a feature that allows you to get a substring from a string, from the start index to the end index.\n",
        "\n",
        " **Syntax and Methods for String Slicing**\n",
        "\n",
        "Python offers two primary methods for string slicing: the slice() function and array slicing. The syntax for both is simple and intuitive, contributing to Python’s popularity among developers.\n",
        "\n",
        "Both methods use square brackets []. Inside these brackets, you specify the start and end indices of the slice. The start index is included, while the end index is excluded.\n",
        "Example:-\n",
        "\n",
        "\n"
      ],
      "metadata": {
        "id": "OET7JrDIJirA"
      }
    },
    {
      "cell_type": "code",
      "source": [
        "#Exapmle 1.\n",
        "S = 'DICTIONARY'\n",
        "\n",
        "print(S[2:7])"
      ],
      "metadata": {
        "colab": {
          "base_uri": "https://localhost:8080/"
        },
        "id": "npA3Y_QRd3qY",
        "outputId": "74b129d2-708f-4761-bbf7-d6d9355abcc2"
      },
      "execution_count": null,
      "outputs": [
        {
          "output_type": "stream",
          "name": "stdout",
          "text": [
            "CTION\n"
          ]
        }
      ]
    },
    {
      "cell_type": "code",
      "source": [
        "#Eaxmple 2.\n",
        "'''Slicing with Negative Indices\n",
        "\n",
        "When slicing a string, you can also specify negative indices'''\n",
        "S = 'DICTIONARY'\n",
        "\n",
        "print(S[-7:-2])"
      ],
      "metadata": {
        "colab": {
          "base_uri": "https://localhost:8080/"
        },
        "id": "tZifD5aBd8i0",
        "outputId": "3750e6dc-7e37-43a0-8899-c9432fd09036"
      },
      "execution_count": null,
      "outputs": [
        {
          "output_type": "stream",
          "name": "stdout",
          "text": [
            "TIONA\n"
          ]
        }
      ]
    },
    {
      "cell_type": "code",
      "source": [
        "#Example 3.\n",
        "''' Slicing strings in Python with Positive & Negative Indices\n",
        "\n",
        "It is possible to define both positive and negative indices simultaneously.'''\n",
        "S = 'ABCDELGHK'\n",
        "\n",
        "print(S[2:-5])"
      ],
      "metadata": {
        "colab": {
          "base_uri": "https://localhost:8080/"
        },
        "id": "NwJ_KBdkei3q",
        "outputId": "784d7f58-2401-4b6a-cfc8-5f97ebe00107"
      },
      "execution_count": null,
      "outputs": [
        {
          "output_type": "stream",
          "name": "stdout",
          "text": [
            "CD\n"
          ]
        }
      ]
    },
    {
      "cell_type": "code",
      "source": [
        "#Example 4.\n",
        "'''Specify Step for the slice- Using the step parameter, you can define the slicing step. The optional step parameter has a default value of 1. '''\n",
        "# Return every second item between positions 2 to 7\n",
        "S = 'AMCDEKGHK'\n",
        "\n",
        "print(S[2:7:2])"
      ],
      "metadata": {
        "colab": {
          "base_uri": "https://localhost:8080/"
        },
        "id": "WcPaVsDWex8E",
        "outputId": "3b80efda-182d-4ee5-8db9-7ee6076af723"
      },
      "execution_count": null,
      "outputs": [
        {
          "output_type": "stream",
          "name": "stdout",
          "text": [
            "CEG\n"
          ]
        }
      ]
    },
    {
      "cell_type": "code",
      "source": [
        "#Example 5.\n",
        "'''Reversing a String- You can reverse a string by leaving off the start and stop indices and entering a step of -1. '''\n",
        "S = 'MONDAY'\n",
        "\n",
        "print(S[::-1])"
      ],
      "metadata": {
        "colab": {
          "base_uri": "https://localhost:8080/"
        },
        "id": "H6iy68l0fJnm",
        "outputId": "94c0f6df-9716-4de5-9ee1-85806c8bdae1"
      },
      "execution_count": null,
      "outputs": [
        {
          "output_type": "stream",
          "name": "stdout",
          "text": [
            "YADNOM\n"
          ]
        }
      ]
    },
    {
      "cell_type": "markdown",
      "source": [
        "Q.2 Explain the key features of lists in Python.\n",
        "\n",
        "Ans. In short, a list is a collection of arbitrary objects, somewhat akin to an array in many other programming languages but more flexible. Lists are defined in Python by enclosing a comma-separated sequence of objects in square brackets ([]), as shown below:\n",
        "\n"
      ],
      "metadata": {
        "id": "DgdA66pffXcN"
      }
    },
    {
      "cell_type": "code",
      "source": [
        "a = ['foo', 'bar', 'baz', 'qux']\n",
        "\n",
        "print(a)"
      ],
      "metadata": {
        "colab": {
          "base_uri": "https://localhost:8080/"
        },
        "id": "OjFz0ZR8gMNM",
        "outputId": "e3361578-1c62-4a50-f8c1-a6ad1366e64b"
      },
      "execution_count": null,
      "outputs": [
        {
          "output_type": "stream",
          "name": "stdout",
          "text": [
            "['foo', 'bar', 'baz', 'qux']\n"
          ]
        }
      ]
    },
    {
      "cell_type": "markdown",
      "source": [
        "The important characteristics of Python lists are as follows:\n",
        "\n",
        "1.Lists are ordered.\n",
        "\n",
        "2.Lists can contain any arbitrary objects.\n",
        "\n",
        "3.List elements can be accessed by index.\n",
        "\n",
        "4.Lists can be nested to arbitrary depth.\n",
        "\n",
        "5.Lists are mutable.\n",
        "\n",
        "6.Lists are dynamic.\n",
        "\n",
        "\n",
        "**1.Lists are ordered:-**\n",
        "\n",
        "A list is not merely a collection of objects. It is an ordered collection of objects. The order in which you specify the elements when you define a list is an innate characteristic of that list and is maintained for that list’s lifetime."
      ],
      "metadata": {
        "id": "BfmOkznggljU"
      }
    },
    {
      "cell_type": "code",
      "source": [
        "a = ['foo', 'bar', 'baz', 'qux']\n",
        "b = ['baz', 'qux', 'bar', 'foo']\n",
        "a == b\n",
        "a is b\n",
        "[1, 2, 3, 4] == [4, 1, 3, 2]"
      ],
      "metadata": {
        "colab": {
          "base_uri": "https://localhost:8080/"
        },
        "id": "E3eoZG20g788",
        "outputId": "6b8c1be2-5a4f-43cf-fed6-a7cf085f9c93"
      },
      "execution_count": null,
      "outputs": [
        {
          "output_type": "execute_result",
          "data": {
            "text/plain": [
              "False"
            ]
          },
          "metadata": {},
          "execution_count": 10
        }
      ]
    },
    {
      "cell_type": "markdown",
      "source": [
        "**2.Lists Can Contain Arbitrary Objects:-**\n",
        "\n",
        "A list can contain any assortment of objects. The elements of a list can all be the same type"
      ],
      "metadata": {
        "id": "5H-5jkmahP1B"
      }
    },
    {
      "cell_type": "code",
      "source": [
        "a = [2, 4, 6, 8]\n",
        "a"
      ],
      "metadata": {
        "colab": {
          "base_uri": "https://localhost:8080/"
        },
        "id": "ujXjDAFvg8lx",
        "outputId": "705b388f-5d79-4f07-ceea-d559bed2dc8d"
      },
      "execution_count": null,
      "outputs": [
        {
          "output_type": "execute_result",
          "data": {
            "text/plain": [
              "[2, 4, 6, 8]"
            ]
          },
          "metadata": {},
          "execution_count": 11
        }
      ]
    },
    {
      "cell_type": "markdown",
      "source": [
        "**3.List Elements Can Be Accessed by Index:-**\n",
        "\n",
        "Individual elements in a list can be accessed using an index in square brackets. This is exactly analogous to accessing individual characters in a string. List indexing is zero-based as it is with strings."
      ],
      "metadata": {
        "id": "IOPcC7f2ivyv"
      }
    },
    {
      "cell_type": "code",
      "source": [
        "a = ['foo', 'bar', 'baz', 'qux', 'quux', 'corge']\n",
        "a[0]"
      ],
      "metadata": {
        "colab": {
          "base_uri": "https://localhost:8080/",
          "height": 35
        },
        "id": "sj7x77iahtVk",
        "outputId": "531fc995-778d-408e-863f-454a36d26985"
      },
      "execution_count": null,
      "outputs": [
        {
          "output_type": "execute_result",
          "data": {
            "text/plain": [
              "'foo'"
            ],
            "application/vnd.google.colaboratory.intrinsic+json": {
              "type": "string"
            }
          },
          "metadata": {},
          "execution_count": 14
        }
      ]
    },
    {
      "cell_type": "markdown",
      "source": [
        " **4.Lists can be nested to arbitrary depth:-**\n",
        "\n",
        " You have seen that an element in a list can be any sort of object. That includes another list. A list can contain sublists, which in turn can contain sublists themselves, and so on to arbitrary depth."
      ],
      "metadata": {
        "id": "ojp3MW4ejj2v"
      }
    },
    {
      "cell_type": "code",
      "source": [
        "x = ['a', ['bb', ['ccc', 'ddd'], 'ee', 'ff'], 'g', ['hh', 'ii'], 'j']\n",
        "x"
      ],
      "metadata": {
        "colab": {
          "base_uri": "https://localhost:8080/"
        },
        "id": "5K7qC0h7jUvl",
        "outputId": "981220e0-4c22-4b85-b359-fbdc56ce9cb5"
      },
      "execution_count": null,
      "outputs": [
        {
          "output_type": "execute_result",
          "data": {
            "text/plain": [
              "['a', ['bb', ['ccc', 'ddd'], 'ee', 'ff'], 'g', ['hh', 'ii'], 'j']"
            ]
          },
          "metadata": {},
          "execution_count": 15
        }
      ]
    },
    {
      "cell_type": "markdown",
      "source": [
        "**5.Lists Are Mutable:**-\n",
        "\n",
        "Most of the data types you have encountered so far have been atomic types. Integer or float objects, for example, are primitive units that can’t be further broken down. These types are immutable, meaning that they can’t be changed once they have been assigned. It doesn’t make much sense to think of changing the value of an integer. If you want a different integer, you just assign a different one."
      ],
      "metadata": {
        "id": "-eHFa_TNj778"
      }
    },
    {
      "cell_type": "code",
      "source": [
        "a = ['foo', 'bar', 'baz', 'qux', 'quux', 'corge']\n",
        "a"
      ],
      "metadata": {
        "colab": {
          "base_uri": "https://localhost:8080/"
        },
        "id": "nzvHH8laj0ob",
        "outputId": "16040081-9d1f-4ae4-e945-67070da47021"
      },
      "execution_count": null,
      "outputs": [
        {
          "output_type": "execute_result",
          "data": {
            "text/plain": [
              "['foo', 'bar', 'baz', 'qux', 'quux', 'corge']"
            ]
          },
          "metadata": {},
          "execution_count": 16
        }
      ]
    },
    {
      "cell_type": "code",
      "source": [
        "a[2] = 10\n",
        "a[-1] = 20\n",
        "a"
      ],
      "metadata": {
        "colab": {
          "base_uri": "https://localhost:8080/"
        },
        "id": "X7mbw-XskEKk",
        "outputId": "02c6690f-e661-440f-e8a7-3df040b19871"
      },
      "execution_count": null,
      "outputs": [
        {
          "output_type": "execute_result",
          "data": {
            "text/plain": [
              "['foo', 'bar', 10, 'qux', 'quux', 20]"
            ]
          },
          "metadata": {},
          "execution_count": 18
        }
      ]
    },
    {
      "cell_type": "markdown",
      "source": [
        "**6.Lists are dynamic:-**\n",
        "\n",
        "This tutorial began with a list of six defining characteristics of Python lists. The last one is that lists are dynamic. You have seen many examples of this in the sections above. When items are added to a list, it grows as needed"
      ],
      "metadata": {
        "id": "0B0QIoNdkQ57"
      }
    },
    {
      "cell_type": "code",
      "source": [
        "a = ['foo', 'bar', 'baz', 'qux', 'quux', 'corge']\n",
        "\n",
        "a[2:2] = [1, 2, 3]\n",
        "a += [3.14159]\n",
        "a"
      ],
      "metadata": {
        "colab": {
          "base_uri": "https://localhost:8080/"
        },
        "id": "tssDgePUkHJJ",
        "outputId": "de2e7dc1-8d36-43c5-f170-bbfa910ab9f6"
      },
      "execution_count": null,
      "outputs": [
        {
          "output_type": "execute_result",
          "data": {
            "text/plain": [
              "['foo', 'bar', 1, 2, 3, 'baz', 'qux', 'quux', 'corge', 3.14159]"
            ]
          },
          "metadata": {},
          "execution_count": 19
        }
      ]
    },
    {
      "cell_type": "markdown",
      "source": [
        "Q.3 Describe how to access, modify, and delete elements in a list with examples.\n",
        "\n",
        "Ans.**Accessing Elements From A List:-**\n",
        "\n",
        "There are various ways through which we can access the items present inside the list in Python.\n",
        "\n",
        "\n",
        "**1.Indexing:-**\n",
        "\n",
        "With the help of the index, we can access the elements of the list. Index starts from 0 and the index should always be an Integer. If we use an index other than integer like float, then it will result in TypeError."
      ],
      "metadata": {
        "id": "XlwjksT2kfqB"
      }
    },
    {
      "cell_type": "code",
      "source": [
        "#Example:\n",
        "colors= ['red','blue','green','yellow','black'] # create list\n",
        "colors"
      ],
      "metadata": {
        "colab": {
          "base_uri": "https://localhost:8080/"
        },
        "id": "VBKQNR6faAgR",
        "outputId": "6da612a8-fddd-465f-ccb0-be36c2df0df5"
      },
      "execution_count": 71,
      "outputs": [
        {
          "output_type": "execute_result",
          "data": {
            "text/plain": [
              "['red', 'blue', 'green', 'yellow', 'black']"
            ]
          },
          "metadata": {},
          "execution_count": 71
        }
      ]
    },
    {
      "cell_type": "code",
      "source": [
        "len(colors) # get list length"
      ],
      "metadata": {
        "colab": {
          "base_uri": "https://localhost:8080/"
        },
        "id": "HnKZBsnzceXJ",
        "outputId": "a60b2142-1297-45b3-95e8-89e2c821e62d"
      },
      "execution_count": 72,
      "outputs": [
        {
          "output_type": "execute_result",
          "data": {
            "text/plain": [
              "5"
            ]
          },
          "metadata": {},
          "execution_count": 72
        }
      ]
    },
    {
      "cell_type": "code",
      "source": [
        "colors[0]"
      ],
      "metadata": {
        "colab": {
          "base_uri": "https://localhost:8080/",
          "height": 35
        },
        "id": "14kNmI9-cji-",
        "outputId": "98270802-d954-48fe-a771-578d0cac9894"
      },
      "execution_count": 73,
      "outputs": [
        {
          "output_type": "execute_result",
          "data": {
            "text/plain": [
              "'red'"
            ],
            "application/vnd.google.colaboratory.intrinsic+json": {
              "type": "string"
            }
          },
          "metadata": {},
          "execution_count": 73
        }
      ]
    },
    {
      "cell_type": "code",
      "source": [
        "colors[2]"
      ],
      "metadata": {
        "colab": {
          "base_uri": "https://localhost:8080/",
          "height": 35
        },
        "id": "5nfB8cjGcqJC",
        "outputId": "bede1174-3b8c-42b3-b790-5a35b2a44fc7"
      },
      "execution_count": 74,
      "outputs": [
        {
          "output_type": "execute_result",
          "data": {
            "text/plain": [
              "'green'"
            ],
            "application/vnd.google.colaboratory.intrinsic+json": {
              "type": "string"
            }
          },
          "metadata": {},
          "execution_count": 74
        }
      ]
    },
    {
      "cell_type": "markdown",
      "source": [
        "**Negative Indexing:-**\n",
        "\n",
        "We can access data using a negative index as well. A negative index will always start from -1 and -1 refers to the last element and -2 refers to the last second item and so on."
      ],
      "metadata": {
        "id": "2KA4bsjGc2P5"
      }
    },
    {
      "cell_type": "code",
      "source": [
        "#Example:-\n",
        "colors= ['red','blue','green','yellow','black']\n",
        "colors"
      ],
      "metadata": {
        "colab": {
          "base_uri": "https://localhost:8080/"
        },
        "id": "1LU-4CyYcu_L",
        "outputId": "d0903cfe-7520-4309-8d21-240a0a2bb0a1"
      },
      "execution_count": 75,
      "outputs": [
        {
          "output_type": "execute_result",
          "data": {
            "text/plain": [
              "['red', 'blue', 'green', 'yellow', 'black']"
            ]
          },
          "metadata": {},
          "execution_count": 75
        }
      ]
    },
    {
      "cell_type": "code",
      "source": [
        "len(colors)"
      ],
      "metadata": {
        "colab": {
          "base_uri": "https://localhost:8080/"
        },
        "id": "Tc_JYKPJdUD0",
        "outputId": "ff587d8c-4b08-42f0-9899-7157e16ec17a"
      },
      "execution_count": 76,
      "outputs": [
        {
          "output_type": "execute_result",
          "data": {
            "text/plain": [
              "5"
            ]
          },
          "metadata": {},
          "execution_count": 76
        }
      ]
    },
    {
      "cell_type": "code",
      "source": [
        "colors[-1]"
      ],
      "metadata": {
        "colab": {
          "base_uri": "https://localhost:8080/",
          "height": 35
        },
        "id": "oBXuy-E4dXCe",
        "outputId": "e8e72ede-855e-4714-d62d-a23b9f34d0e5"
      },
      "execution_count": 77,
      "outputs": [
        {
          "output_type": "execute_result",
          "data": {
            "text/plain": [
              "'black'"
            ],
            "application/vnd.google.colaboratory.intrinsic+json": {
              "type": "string"
            }
          },
          "metadata": {},
          "execution_count": 77
        }
      ]
    },
    {
      "cell_type": "code",
      "source": [
        "colors[-4]"
      ],
      "metadata": {
        "colab": {
          "base_uri": "https://localhost:8080/",
          "height": 35
        },
        "id": "Q-417HJrdbVK",
        "outputId": "0e19f171-b853-4d20-9e1c-957e95881d07"
      },
      "execution_count": 78,
      "outputs": [
        {
          "output_type": "execute_result",
          "data": {
            "text/plain": [
              "'blue'"
            ],
            "application/vnd.google.colaboratory.intrinsic+json": {
              "type": "string"
            }
          },
          "metadata": {},
          "execution_count": 78
        }
      ]
    },
    {
      "cell_type": "markdown",
      "source": [
        "**Slicing the List:-**\n",
        "\n",
        "Using the slice operator (:) we can access a range of elements from the list"
      ],
      "metadata": {
        "id": "poDSOd5bdk1n"
      }
    },
    {
      "cell_type": "code",
      "source": [
        "colors= ['red','blue','green','yellow','black']\n",
        "colors"
      ],
      "metadata": {
        "colab": {
          "base_uri": "https://localhost:8080/"
        },
        "id": "dXL0C_I5df2O",
        "outputId": "0494c5da-fbc2-4354-90f4-1118e90b9df4"
      },
      "execution_count": 79,
      "outputs": [
        {
          "output_type": "execute_result",
          "data": {
            "text/plain": [
              "['red', 'blue', 'green', 'yellow', 'black']"
            ]
          },
          "metadata": {},
          "execution_count": 79
        }
      ]
    },
    {
      "cell_type": "code",
      "source": [
        "len(colors)"
      ],
      "metadata": {
        "colab": {
          "base_uri": "https://localhost:8080/"
        },
        "id": "vCqu7omNeen9",
        "outputId": "3629c305-fef2-4319-af65-8c13be617709"
      },
      "execution_count": 80,
      "outputs": [
        {
          "output_type": "execute_result",
          "data": {
            "text/plain": [
              "5"
            ]
          },
          "metadata": {},
          "execution_count": 80
        }
      ]
    },
    {
      "cell_type": "code",
      "source": [
        "colors[1:5]"
      ],
      "metadata": {
        "colab": {
          "base_uri": "https://localhost:8080/"
        },
        "id": "vAcLa69cen3S",
        "outputId": "50bdf441-547f-4a80-a7cb-996536ed0a89"
      },
      "execution_count": 81,
      "outputs": [
        {
          "output_type": "execute_result",
          "data": {
            "text/plain": [
              "['blue', 'green', 'yellow', 'black']"
            ]
          },
          "metadata": {},
          "execution_count": 81
        }
      ]
    },
    {
      "cell_type": "code",
      "source": [
        "colors[2:4]"
      ],
      "metadata": {
        "colab": {
          "base_uri": "https://localhost:8080/"
        },
        "id": "A6GNPZxYetRY",
        "outputId": "b87d2b63-9a2f-4188-81b1-f6494798c422"
      },
      "execution_count": 85,
      "outputs": [
        {
          "output_type": "execute_result",
          "data": {
            "text/plain": [
              "['green', 'yellow']"
            ]
          },
          "metadata": {},
          "execution_count": 85
        }
      ]
    },
    {
      "cell_type": "markdown",
      "source": [
        "**Loop:-**\n",
        "\n",
        "We can also access the elements present inside the list using for loop\n",
        "\n",
        "```\n",
        "# This is formatted as code\n",
        "```\n",
        "\n"
      ],
      "metadata": {
        "id": "9_v1H4DigDPg"
      }
    },
    {
      "cell_type": "code",
      "source": [
        "#print colors in a colors list\n",
        "colors= ['red','blue','green','yellow','black']\n",
        "for x in colors:\n",
        "  print(x)"
      ],
      "metadata": {
        "colab": {
          "base_uri": "https://localhost:8080/"
        },
        "id": "li7E_03Cmv9E",
        "outputId": "6e0a2916-3ba8-43e4-eebd-471329fee296"
      },
      "execution_count": 101,
      "outputs": [
        {
          "output_type": "stream",
          "name": "stdout",
          "text": [
            "red\n",
            "blue\n",
            "green\n",
            "yellow\n",
            "black\n"
          ]
        }
      ]
    },
    {
      "cell_type": "code",
      "source": [
        "def count_letters(l):\n",
        "    count = {}  # define a dict to hold our count\n",
        "    for i in l: # loop through the list\n",
        "        count[i] = len(i)  # for each item, compute its length and store it in the dict\n",
        "    return count # return the count\n",
        "\n",
        "if __name__ == '__main__':\n",
        "    colors = ['red', 'blue', 'green', 'yellow', 'black']\n",
        "    print(count_letters(colors))"
      ],
      "metadata": {
        "colab": {
          "base_uri": "https://localhost:8080/"
        },
        "id": "sIBm-b-zm4TE",
        "outputId": "b4155ea9-d8d4-46c0-dffe-af14c80484ae"
      },
      "execution_count": 102,
      "outputs": [
        {
          "output_type": "stream",
          "name": "stdout",
          "text": [
            "{'red': 3, 'blue': 4, 'green': 5, 'yellow': 6, 'black': 5}\n"
          ]
        }
      ]
    },
    {
      "cell_type": "markdown",
      "source": [
        "** Deleting Elements From A List:-**\n",
        "As we can add as many items to a list, they can also be removed from a list. The three ways by which items can be removed are:\n",
        "\n",
        "**Using the del statement**\n",
        "\n",
        "**del target_list**\n",
        "\n",
        "The target list(target_list) can be the entire list(in case you want to delete the list) or an item or items in a list(in this case you use indexing or slicing).\n"
      ],
      "metadata": {
        "id": "nz7Dvj_Tns09"
      }
    },
    {
      "cell_type": "code",
      "source": [
        "#Example\n",
        "#Say, we want to delete some items from the colors list created above.\n",
        "colors"
      ],
      "metadata": {
        "colab": {
          "base_uri": "https://localhost:8080/"
        },
        "id": "ImVPH0Q1nkpR",
        "outputId": "13258cd5-c47b-46a2-8169-19a85eb9d6cd"
      },
      "execution_count": 104,
      "outputs": [
        {
          "output_type": "execute_result",
          "data": {
            "text/plain": [
              "['red', 'blue', 'green', 'yellow', 'black']"
            ]
          },
          "metadata": {},
          "execution_count": 104
        }
      ]
    },
    {
      "cell_type": "code",
      "source": [
        "c_copy = colors[:] # make a shallow copy to work on\n",
        "del c_copy[0]  # delete item at index 0\n",
        "c_copy"
      ],
      "metadata": {
        "colab": {
          "base_uri": "https://localhost:8080/"
        },
        "id": "KlGfbNkaox2d",
        "outputId": "b9047aa2-4052-4eae-b16e-00bd5762b149"
      },
      "execution_count": 105,
      "outputs": [
        {
          "output_type": "execute_result",
          "data": {
            "text/plain": [
              "['blue', 'green', 'yellow', 'black']"
            ]
          },
          "metadata": {},
          "execution_count": 105
        }
      ]
    },
    {
      "cell_type": "code",
      "source": [
        "del c_copy[0:2]  # delete items at index 0 and 1(slicing)\n",
        "c_copy"
      ],
      "metadata": {
        "colab": {
          "base_uri": "https://localhost:8080/"
        },
        "id": "J32bSOkoo8_S",
        "outputId": "54663005-5a9d-4803-ae25-127a07a64359"
      },
      "execution_count": 107,
      "outputs": [
        {
          "output_type": "execute_result",
          "data": {
            "text/plain": [
              "['yellow', 'black']"
            ]
          },
          "metadata": {},
          "execution_count": 107
        }
      ]
    },
    {
      "cell_type": "code",
      "source": [
        "del c_copy[:]  # delete all items in a list. Same as ‘c_copy.clear()’\n",
        "[]\n",
        "del c_copy  # delete the list object\n"
      ],
      "metadata": {
        "id": "LesT5EfhpBJT"
      },
      "execution_count": 108,
      "outputs": []
    },
    {
      "cell_type": "code",
      "source": [
        "c_copy      # access object that doesn't exist\n",
        "#Note: The del statement deletes in place i.e., it will modify the original list object rather than returning a new list object."
      ],
      "metadata": {
        "colab": {
          "base_uri": "https://localhost:8080/",
          "height": 141
        },
        "id": "CRhU8jP5pVaY",
        "outputId": "27a077f4-da74-4c82-f285-2d779836735b"
      },
      "execution_count": 109,
      "outputs": [
        {
          "output_type": "error",
          "ename": "NameError",
          "evalue": "name 'c_copy' is not defined",
          "traceback": [
            "\u001b[0;31m---------------------------------------------------------------------------\u001b[0m",
            "\u001b[0;31mNameError\u001b[0m                                 Traceback (most recent call last)",
            "\u001b[0;32m<ipython-input-109-c321eac4cf96>\u001b[0m in \u001b[0;36m<cell line: 1>\u001b[0;34m()\u001b[0m\n\u001b[0;32m----> 1\u001b[0;31m \u001b[0mc_copy\u001b[0m      \u001b[0;31m# access object that doesn't exist\u001b[0m\u001b[0;34m\u001b[0m\u001b[0;34m\u001b[0m\u001b[0m\n\u001b[0m",
            "\u001b[0;31mNameError\u001b[0m: name 'c_copy' is not defined"
          ]
        }
      ]
    },
    {
      "cell_type": "markdown",
      "source": [
        "**Using the list.remove(x)**\n",
        "\n",
        "It removes the first item from the list whose value is equal to x. It raises a ValueError if there is no such item.\n",
        "\n",
        "This method is used mostly to remove items from a list by name, unlike the del statement that uses indexing and slicing."
      ],
      "metadata": {
        "id": "3JbTHU_vppG5"
      }
    },
    {
      "cell_type": "code",
      "source": [
        "colors"
      ],
      "metadata": {
        "colab": {
          "base_uri": "https://localhost:8080/"
        },
        "id": "K2F58cw7pbUi",
        "outputId": "50de2215-25e2-4e8a-ff10-7433eda8ea32"
      },
      "execution_count": 110,
      "outputs": [
        {
          "output_type": "execute_result",
          "data": {
            "text/plain": [
              "['red', 'blue', 'green', 'yellow', 'black']"
            ]
          },
          "metadata": {},
          "execution_count": 110
        }
      ]
    },
    {
      "cell_type": "code",
      "source": [
        "c_copy = colors[:]  # create shallow copy to work on\n",
        "c_copy"
      ],
      "metadata": {
        "colab": {
          "base_uri": "https://localhost:8080/"
        },
        "id": "_ufxBkQRp0NB",
        "outputId": "f77f1e76-96e8-4ea8-c126-ece281631c26"
      },
      "execution_count": 111,
      "outputs": [
        {
          "output_type": "execute_result",
          "data": {
            "text/plain": [
              "['red', 'blue', 'green', 'yellow', 'black']"
            ]
          },
          "metadata": {},
          "execution_count": 111
        }
      ]
    },
    {
      "cell_type": "code",
      "source": [
        "c_copy.remove('blue')  # remove first item with name 'blue'\n",
        "c_copy"
      ],
      "metadata": {
        "colab": {
          "base_uri": "https://localhost:8080/"
        },
        "id": "4skSKSY8p-6S",
        "outputId": "213b2c87-0c3b-4151-aafe-847adde885ab"
      },
      "execution_count": 112,
      "outputs": [
        {
          "output_type": "execute_result",
          "data": {
            "text/plain": [
              "['red', 'green', 'yellow', 'black']"
            ]
          },
          "metadata": {},
          "execution_count": 112
        }
      ]
    },
    {
      "cell_type": "code",
      "source": [
        " c_copy.remove('blue')  # try to remove item that doesn't exist\n",
        " c_copy\n",
        " #Note.The list object remove() method deletes in place i.e., it will modify the original list object rather than returning a new list object."
      ],
      "metadata": {
        "colab": {
          "base_uri": "https://localhost:8080/",
          "height": 158
        },
        "id": "RORK001yqEVK",
        "outputId": "fadfc8bb-8596-4db5-cdaf-40b719a0c137"
      },
      "execution_count": 113,
      "outputs": [
        {
          "output_type": "error",
          "ename": "ValueError",
          "evalue": "list.remove(x): x not in list",
          "traceback": [
            "\u001b[0;31m---------------------------------------------------------------------------\u001b[0m",
            "\u001b[0;31mValueError\u001b[0m                                Traceback (most recent call last)",
            "\u001b[0;32m<ipython-input-113-ce7b49b080c5>\u001b[0m in \u001b[0;36m<cell line: 1>\u001b[0;34m()\u001b[0m\n\u001b[0;32m----> 1\u001b[0;31m \u001b[0mc_copy\u001b[0m\u001b[0;34m.\u001b[0m\u001b[0mremove\u001b[0m\u001b[0;34m(\u001b[0m\u001b[0;34m'blue'\u001b[0m\u001b[0;34m)\u001b[0m  \u001b[0;31m# try to remove item that doesn't exist\u001b[0m\u001b[0;34m\u001b[0m\u001b[0;34m\u001b[0m\u001b[0m\n\u001b[0m\u001b[1;32m      2\u001b[0m \u001b[0mc_copy\u001b[0m\u001b[0;34m\u001b[0m\u001b[0;34m\u001b[0m\u001b[0m\n",
            "\u001b[0;31mValueError\u001b[0m: list.remove(x): x not in list"
          ]
        }
      ]
    },
    {
      "cell_type": "markdown",
      "source": [
        "**Using list.pop([i]):-**\n",
        "\n",
        "It removes and returns the item at the given position in a list object. If no i(index) is provided, it removes and returns the last item in the list.\n",
        "\n",
        "Note: The square bracket around i above doesn’t mean a list of i, rather it means i is optional."
      ],
      "metadata": {
        "id": "ozvrhn7oqZVQ"
      }
    },
    {
      "cell_type": "code",
      "source": [
        "colors"
      ],
      "metadata": {
        "colab": {
          "base_uri": "https://localhost:8080/"
        },
        "id": "Tq-af4ZWqwH0",
        "outputId": "eef8c6f2-4bc0-4f68-ccfd-5962c4cf250d"
      },
      "execution_count": 114,
      "outputs": [
        {
          "output_type": "execute_result",
          "data": {
            "text/plain": [
              "['red', 'blue', 'green', 'yellow', 'black']"
            ]
          },
          "metadata": {},
          "execution_count": 114
        }
      ]
    },
    {
      "cell_type": "code",
      "source": [
        "c_copy = colors[:]  # make a shallow copy to work on\n",
        "c_copy"
      ],
      "metadata": {
        "colab": {
          "base_uri": "https://localhost:8080/"
        },
        "id": "fZIYSUYtqxai",
        "outputId": "3add1f37-644b-4c22-a282-4a03ac0ca304"
      },
      "execution_count": 115,
      "outputs": [
        {
          "output_type": "execute_result",
          "data": {
            "text/plain": [
              "['red', 'blue', 'green', 'yellow', 'black']"
            ]
          },
          "metadata": {},
          "execution_count": 115
        }
      ]
    },
    {
      "cell_type": "code",
      "source": [
        "c_copy.pop(3)    # pop out the item at index 3"
      ],
      "metadata": {
        "colab": {
          "base_uri": "https://localhost:8080/",
          "height": 35
        },
        "id": "yCcGlcqeq2Zr",
        "outputId": "f38a18b6-f981-4690-e797-589d64b31302"
      },
      "execution_count": 116,
      "outputs": [
        {
          "output_type": "execute_result",
          "data": {
            "text/plain": [
              "'yellow'"
            ],
            "application/vnd.google.colaboratory.intrinsic+json": {
              "type": "string"
            }
          },
          "metadata": {},
          "execution_count": 116
        }
      ]
    },
    {
      "cell_type": "code",
      "source": [
        "c_copy"
      ],
      "metadata": {
        "colab": {
          "base_uri": "https://localhost:8080/"
        },
        "id": "9k3XMv1Uq66s",
        "outputId": "9fdcaf71-a9ae-45de-99c3-73eee97040cc"
      },
      "execution_count": 117,
      "outputs": [
        {
          "output_type": "execute_result",
          "data": {
            "text/plain": [
              "['red', 'blue', 'green', 'black']"
            ]
          },
          "metadata": {},
          "execution_count": 117
        }
      ]
    },
    {
      "cell_type": "code",
      "source": [
        " c_copy.pop()     # pop out the last item in the list\n"
      ],
      "metadata": {
        "colab": {
          "base_uri": "https://localhost:8080/",
          "height": 35
        },
        "id": "Jjmo14hAq9hP",
        "outputId": "31bfd777-8c3e-4a15-dd51-2f8971e5dcb8"
      },
      "execution_count": 119,
      "outputs": [
        {
          "output_type": "execute_result",
          "data": {
            "text/plain": [
              "'green'"
            ],
            "application/vnd.google.colaboratory.intrinsic+json": {
              "type": "string"
            }
          },
          "metadata": {},
          "execution_count": 119
        }
      ]
    },
    {
      "cell_type": "code",
      "source": [
        "c_copy"
      ],
      "metadata": {
        "colab": {
          "base_uri": "https://localhost:8080/"
        },
        "id": "1bF8kpyprDIX",
        "outputId": "27391182-8daa-4da0-abd7-28b9b480d6a3"
      },
      "execution_count": 121,
      "outputs": [
        {
          "output_type": "execute_result",
          "data": {
            "text/plain": [
              "['red', 'blue']"
            ]
          },
          "metadata": {},
          "execution_count": 121
        }
      ]
    },
    {
      "cell_type": "code",
      "source": [
        "#Note: The list.pop([i]) method deletes in place i.e., it will modify the original list object rather than returning a new list object. Also, it returns the item removed from the list"
      ],
      "metadata": {
        "id": "FxcLJb3PrIyr"
      },
      "execution_count": null,
      "outputs": []
    },
    {
      "cell_type": "markdown",
      "source": [
        "**Modifying Elemens From A List**\n",
        "\n",
        "Replacing items is pretty simple. In one of the above sections, we saw indexing and slicing. These can be used to access and remove items from a list.\n",
        "\n",
        "**1.Replace using indexing**\n",
        "\n",
        "**L[index] = value**\n"
      ],
      "metadata": {
        "id": "cmhs9oVGrRI2"
      }
    },
    {
      "cell_type": "code",
      "source": [
        "colors"
      ],
      "metadata": {
        "colab": {
          "base_uri": "https://localhost:8080/"
        },
        "id": "yy2BYpqE5wkQ",
        "outputId": "f59bd9b8-1d00-450f-b615-bf09d94f86fe"
      },
      "execution_count": 122,
      "outputs": [
        {
          "output_type": "execute_result",
          "data": {
            "text/plain": [
              "['red', 'blue', 'green', 'yellow', 'black']"
            ]
          },
          "metadata": {},
          "execution_count": 122
        }
      ]
    },
    {
      "cell_type": "code",
      "source": [
        "c_copy = colors[:]   # make a shallow copy to work on\n",
        "c_copy"
      ],
      "metadata": {
        "colab": {
          "base_uri": "https://localhost:8080/"
        },
        "id": "ZOQZYIcw5xbb",
        "outputId": "6d9ca4a1-bb9c-4da4-ee65-c0def8e47b9d"
      },
      "execution_count": 123,
      "outputs": [
        {
          "output_type": "execute_result",
          "data": {
            "text/plain": [
              "['red', 'blue', 'green', 'yellow', 'black']"
            ]
          },
          "metadata": {},
          "execution_count": 123
        }
      ]
    },
    {
      "cell_type": "code",
      "source": [
        "c_copy[0] = 'brown'   # modify item at index 0 with 'brown'\n",
        "c_copy"
      ],
      "metadata": {
        "colab": {
          "base_uri": "https://localhost:8080/"
        },
        "id": "3tSYG6Ly59_A",
        "outputId": "e3f4b0b6-f169-41c5-bb6c-498f5e9b3d14"
      },
      "execution_count": 124,
      "outputs": [
        {
          "output_type": "execute_result",
          "data": {
            "text/plain": [
              "['brown', 'blue', 'green', 'yellow', 'black']"
            ]
          },
          "metadata": {},
          "execution_count": 124
        }
      ]
    },
    {
      "cell_type": "markdown",
      "source": [
        "**2.Modifying using slicing:-**\n",
        "\n",
        "**L[n:m] = value**\n",
        "\n",
        "Note: Value should be an iterable, or else the TypeError exception will be raised."
      ],
      "metadata": {
        "id": "fJwdDPDy6Nrp"
      }
    },
    {
      "cell_type": "code",
      "source": [
        "colors"
      ],
      "metadata": {
        "colab": {
          "base_uri": "https://localhost:8080/"
        },
        "id": "RLSWRfng6IEY",
        "outputId": "ec6af900-0c5e-4499-fc97-07b8c5408255"
      },
      "execution_count": 125,
      "outputs": [
        {
          "output_type": "execute_result",
          "data": {
            "text/plain": [
              "['red', 'blue', 'green', 'yellow', 'black']"
            ]
          },
          "metadata": {},
          "execution_count": 125
        }
      ]
    },
    {
      "cell_type": "code",
      "source": [
        "c_copy = colors[:]  # make a shallow copy to work on"
      ],
      "metadata": {
        "id": "92FQ687m7nxZ"
      },
      "execution_count": 126,
      "outputs": []
    },
    {
      "cell_type": "code",
      "source": [
        "c_copy[0:2] = ['brown']  # replace items at index 0 and 1 with 'brown'\n",
        "c_copy"
      ],
      "metadata": {
        "colab": {
          "base_uri": "https://localhost:8080/"
        },
        "id": "U3WMkto_8Ex-",
        "outputId": "5993d164-9151-4416-d9e1-d83f0b87c6a1"
      },
      "execution_count": 127,
      "outputs": [
        {
          "output_type": "execute_result",
          "data": {
            "text/plain": [
              "['brown', 'green', 'yellow', 'black']"
            ]
          },
          "metadata": {},
          "execution_count": 127
        }
      ]
    },
    {
      "cell_type": "code",
      "source": [
        "c_copy[1:3] = ['white','purple'] # replace items at index 1 and 2 with 'white' and 'purple'\n",
        "c_copy"
      ],
      "metadata": {
        "colab": {
          "base_uri": "https://localhost:8080/"
        },
        "id": "GXG-tEco8JRB",
        "outputId": "51b0d49b-7709-427c-d61d-87e86e23957d"
      },
      "execution_count": 129,
      "outputs": [
        {
          "output_type": "execute_result",
          "data": {
            "text/plain": [
              "['brown', 'white', 'purple', 'black']"
            ]
          },
          "metadata": {},
          "execution_count": 129
        }
      ]
    },
    {
      "cell_type": "code",
      "source": [
        "c_copy[1:4] = ['white','purple']#replace items at index 1,2 and 3 with 'white' and 'purple'. Here we replace 3 items with 2 items\n",
        "c_copy"
      ],
      "metadata": {
        "colab": {
          "base_uri": "https://localhost:8080/"
        },
        "id": "T8dsISWZ9ACC",
        "outputId": "f80c2cc2-241e-4e97-b33a-83dea36cc0d3"
      },
      "execution_count": 130,
      "outputs": [
        {
          "output_type": "execute_result",
          "data": {
            "text/plain": [
              "['brown', 'white', 'purple']"
            ]
          },
          "metadata": {},
          "execution_count": 130
        }
      ]
    },
    {
      "cell_type": "markdown",
      "source": [
        "Q.4 Compare and contrast tuples and lists with examples.\n",
        "\n",
        "Ans.**List**\n",
        "\n",
        "1.Lists are mutable.\n",
        "\n",
        "2.The implication of iterations is Time-consuming.\n",
        "\n",
        "3.The list is better for performing operations, such as insertion and deletion.\n",
        "\n",
        "4.Lists consume more memory.\n",
        "\n",
        "5.Lists have several built-in methods.\n",
        "\n",
        "6.Unexpected changes and errors are more likely to occur."
      ],
      "metadata": {
        "id": "ilfkNf1u9Qmi"
      }
    },
    {
      "cell_type": "code",
      "source": [
        "#Example\n",
        "# Creating a List with\n",
        "# the use of Numbers\n",
        "# code to test that tuples are mutable\n",
        "List = [1, 2, 4, 4, 3, 3, 3, 6, 5]\n",
        "print(\"Original list \", List)\n"
      ],
      "metadata": {
        "colab": {
          "base_uri": "https://localhost:8080/"
        },
        "id": "YK1ni_KF9NWx",
        "outputId": "463ece25-d990-498f-9205-1da16016423e"
      },
      "execution_count": 131,
      "outputs": [
        {
          "output_type": "stream",
          "name": "stdout",
          "text": [
            "Original list  [1, 2, 4, 4, 3, 3, 3, 6, 5]\n"
          ]
        }
      ]
    },
    {
      "cell_type": "code",
      "source": [
        "List[3]=77\n",
        "print(\"Example to show mutability \", List)"
      ],
      "metadata": {
        "colab": {
          "base_uri": "https://localhost:8080/"
        },
        "id": "7SRRz5qZ--cA",
        "outputId": "992200b8-c2f6-4b13-9a16-00f5e98fe13b"
      },
      "execution_count": 134,
      "outputs": [
        {
          "output_type": "stream",
          "name": "stdout",
          "text": [
            "Example to show mutability  [1, 2, 4, 77, 3, 3, 3, 6, 5]\n"
          ]
        }
      ]
    },
    {
      "cell_type": "markdown",
      "source": [
        "`**TUPLE**\n",
        "\n",
        "1.Tuples are immutable.\n",
        "\n",
        "2.The implication of iterations is comparatively Faster.\n",
        "\n",
        "3.A Tuple data type is appropriate for accessing the elements.\n",
        "\n",
        "4.Tuple consumes less memory as compared to the list.\n",
        "\n",
        "5.Tuple does not have many built-in methods.\n",
        "\n",
        "6.Because tuples don’t change they are far less error-prone.\n"
      ],
      "metadata": {
        "id": "0iJA_Lng_d4o"
      }
    },
    {
      "cell_type": "code",
      "source": [
        "#Example\n",
        "# code to test that tuples are immutable\n",
        "\n",
        "tuple1 = (0, 1, 2, 3)\n",
        "tuple1[0] = 4\n",
        "print(tuple1)\n"
      ],
      "metadata": {
        "colab": {
          "base_uri": "https://localhost:8080/",
          "height": 193
        },
        "id": "2746zyQF_Oua",
        "outputId": "830faedd-595d-46c7-93ec-8a92ca1d00ce"
      },
      "execution_count": 135,
      "outputs": [
        {
          "output_type": "error",
          "ename": "TypeError",
          "evalue": "'tuple' object does not support item assignment",
          "traceback": [
            "\u001b[0;31m---------------------------------------------------------------------------\u001b[0m",
            "\u001b[0;31mTypeError\u001b[0m                                 Traceback (most recent call last)",
            "\u001b[0;32m<ipython-input-135-4adbeaf3b419>\u001b[0m in \u001b[0;36m<cell line: 5>\u001b[0;34m()\u001b[0m\n\u001b[1;32m      3\u001b[0m \u001b[0;34m\u001b[0m\u001b[0m\n\u001b[1;32m      4\u001b[0m \u001b[0mtuple1\u001b[0m \u001b[0;34m=\u001b[0m \u001b[0;34m(\u001b[0m\u001b[0;36m0\u001b[0m\u001b[0;34m,\u001b[0m \u001b[0;36m1\u001b[0m\u001b[0;34m,\u001b[0m \u001b[0;36m2\u001b[0m\u001b[0;34m,\u001b[0m \u001b[0;36m3\u001b[0m\u001b[0;34m)\u001b[0m\u001b[0;34m\u001b[0m\u001b[0;34m\u001b[0m\u001b[0m\n\u001b[0;32m----> 5\u001b[0;31m \u001b[0mtuple1\u001b[0m\u001b[0;34m[\u001b[0m\u001b[0;36m0\u001b[0m\u001b[0;34m]\u001b[0m \u001b[0;34m=\u001b[0m \u001b[0;36m4\u001b[0m\u001b[0;34m\u001b[0m\u001b[0;34m\u001b[0m\u001b[0m\n\u001b[0m\u001b[1;32m      6\u001b[0m \u001b[0mprint\u001b[0m\u001b[0;34m(\u001b[0m\u001b[0mtuple1\u001b[0m\u001b[0;34m)\u001b[0m\u001b[0;34m\u001b[0m\u001b[0;34m\u001b[0m\u001b[0m\n",
            "\u001b[0;31mTypeError\u001b[0m: 'tuple' object does not support item assignment"
          ]
        }
      ]
    },
    {
      "cell_type": "code",
      "source": [
        "#If you need to chaneg the tuple, you need to create a new one\n",
        "new_tuple1 = (4,) + tuple1[1:]# Create a new tuple with the modified element\n",
        "print(new_tuple1)"
      ],
      "metadata": {
        "colab": {
          "base_uri": "https://localhost:8080/"
        },
        "id": "WCY6cAw-AHBF",
        "outputId": "056f40d6-a040-4517-e99a-fbd2752a8913"
      },
      "execution_count": 136,
      "outputs": [
        {
          "output_type": "stream",
          "name": "stdout",
          "text": [
            "(4, 1, 2, 3)\n"
          ]
        }
      ]
    },
    {
      "cell_type": "markdown",
      "source": [
        "Q.5 Describe the key features of sets and provide examples of their use.\n",
        "\n",
        "Ans.Set is a data type in python used to store several items in a single variable. It is one of the four built-in data types (List, Dictionary, Tuple, and Set) having qualities and usage different from the other three. It is a collection that is written with curly brackets and is both unindexed and unordered.\n",
        "\n",
        "A set is mutable, i.e., we can remove or add elements to it. Set in python is similar to mathematical sets, and operations like intersection, union, symmetric difference, and more can be applied.\n",
        "\n",
        " Sets in Python are a valuable data structure with several key features:-\n",
        "\n",
        " 1.**Unordered:-**\n",
        "\n",
        " A set doesn't maintain any particular order of elements. That means the order in which you insert the elements into a set might not be the same as you would get while iterating through the set."
      ],
      "metadata": {
        "id": "nu1xf1YXMZ3z"
      }
    },
    {
      "cell_type": "code",
      "source": [
        "#Example\n",
        "my_set = {1,2,3,4,5}\n",
        "print(my_set)"
      ],
      "metadata": {
        "colab": {
          "base_uri": "https://localhost:8080/"
        },
        "id": "RKmZrnbAAs12",
        "outputId": "f65a3831-affe-474b-ffa7-1efc41584cb2"
      },
      "execution_count": 1,
      "outputs": [
        {
          "output_type": "stream",
          "name": "stdout",
          "text": [
            "{1, 2, 3, 4, 5}\n"
          ]
        }
      ]
    },
    {
      "cell_type": "markdown",
      "source": [
        "2.**Unique Elements:-**\n",
        "\n",
        "Sets are known to only store unique elements. That is, if you try to put a duplicate element, it will be ignored.\n"
      ],
      "metadata": {
        "id": "ilJmAZscWhnk"
      }
    },
    {
      "cell_type": "code",
      "source": [
        "my_set ={1,1,2,2,3,3,4,4,}\n",
        "print(my_set)"
      ],
      "metadata": {
        "colab": {
          "base_uri": "https://localhost:8080/"
        },
        "id": "Er8dvrhmWblX",
        "outputId": "ba697379-5fb7-4a97-a1d5-b7fc70512a3c"
      },
      "execution_count": 2,
      "outputs": [
        {
          "output_type": "stream",
          "name": "stdout",
          "text": [
            "{1, 2, 3, 4}\n"
          ]
        }
      ]
    },
    {
      "cell_type": "markdown",
      "source": [
        "3**.Mutable:-**\n",
        "\n",
        " You are allowed to add or remove elements of a set even after it's created."
      ],
      "metadata": {
        "id": "bwVexs_KXUXi"
      }
    },
    {
      "cell_type": "code",
      "source": [
        "my_set= {1,2,4}\n",
        "my_set.add(3)\n",
        "print(my_set)"
      ],
      "metadata": {
        "colab": {
          "base_uri": "https://localhost:8080/"
        },
        "id": "MgOAOhHJXRf8",
        "outputId": "552437b2-90cf-4a7c-d23f-eb61196fc11e"
      },
      "execution_count": 8,
      "outputs": [
        {
          "output_type": "stream",
          "name": "stdout",
          "text": [
            "{1, 2, 3, 4}\n"
          ]
        }
      ]
    },
    {
      "cell_type": "code",
      "source": [
        "my_set.remove(2)\n",
        "print(my_set)\n",
        ""
      ],
      "metadata": {
        "colab": {
          "base_uri": "https://localhost:8080/"
        },
        "id": "8A0xxJpLXuco",
        "outputId": "da964bd0-3107-492e-beed-ba12afeee188"
      },
      "execution_count": 9,
      "outputs": [
        {
          "output_type": "stream",
          "name": "stdout",
          "text": [
            "{1, 3, 4}\n"
          ]
        }
      ]
    },
    {
      "cell_type": "markdown",
      "source": [
        "4.**Immutable Elements:-**\n",
        "\n",
        " Although sets themselves are mutable, the elements of a set should be immutable. For example, numbers, strings, tuples. You can't have lists or dictionaries as elements of a set."
      ],
      "metadata": {
        "id": "ZNCjKoqtYKbj"
      }
    },
    {
      "cell_type": "code",
      "source": [
        "my_set = {1, \"hello\", (1, 2)}  # Valid\n",
        "#my_set = {[1, 2], 3}  # Invalid, list is mutable"
      ],
      "metadata": {
        "id": "Wstf63XaYPSw"
      },
      "execution_count": 10,
      "outputs": []
    },
    {
      "cell_type": "code",
      "source": [
        "print(my_set)"
      ],
      "metadata": {
        "colab": {
          "base_uri": "https://localhost:8080/"
        },
        "id": "_94tqJX5Yij0",
        "outputId": "e39a06b5-6211-428e-c7ed-26bdb1e2d6d2"
      },
      "execution_count": 11,
      "outputs": [
        {
          "output_type": "stream",
          "name": "stdout",
          "text": [
            "{1, (1, 2), 'hello'}\n"
          ]
        }
      ]
    },
    {
      "cell_type": "markdown",
      "source": [
        "5.**Set Operations:-**\n",
        "\n",
        " Sets support several mathematical set operations. These include union, intersection, difference and symmetric difference."
      ],
      "metadata": {
        "id": "W_HiFqp7Zur0"
      }
    },
    {
      "cell_type": "code",
      "source": [
        "set1 = {1, 2, 3}\n",
        "set2 = {2, 3, 4}"
      ],
      "metadata": {
        "id": "71iZqwi8Ynpu"
      },
      "execution_count": 12,
      "outputs": []
    },
    {
      "cell_type": "code",
      "source": [
        "union = set1.union(set2)\n",
        "print(set1.union(set2))"
      ],
      "metadata": {
        "colab": {
          "base_uri": "https://localhost:8080/"
        },
        "id": "1rJJAvhCZ5oE",
        "outputId": "bc1a5deb-f34b-4370-e5f4-bc6be5c5ba81"
      },
      "execution_count": 15,
      "outputs": [
        {
          "output_type": "stream",
          "name": "stdout",
          "text": [
            "{1, 2, 3, 4}\n"
          ]
        }
      ]
    },
    {
      "cell_type": "code",
      "source": [
        "intersection = set1.intersection(set2)\n",
        "print(set1.intersection(set2))"
      ],
      "metadata": {
        "colab": {
          "base_uri": "https://localhost:8080/"
        },
        "id": "n6Mo0ha5Z9al",
        "outputId": "6c58adaf-c31f-4a83-9bf6-4a746540742a"
      },
      "execution_count": 16,
      "outputs": [
        {
          "output_type": "stream",
          "name": "stdout",
          "text": [
            "{2, 3}\n"
          ]
        }
      ]
    },
    {
      "cell_type": "code",
      "source": [
        "difference = set1.difference(set2)\n",
        "print(set1.difference(set2))"
      ],
      "metadata": {
        "colab": {
          "base_uri": "https://localhost:8080/"
        },
        "id": "n2Xrf5ZoaSNO",
        "outputId": "860f81c6-6a18-4c6e-e695-2ae2d2adb2b9"
      },
      "execution_count": 17,
      "outputs": [
        {
          "output_type": "stream",
          "name": "stdout",
          "text": [
            "{1}\n"
          ]
        }
      ]
    },
    {
      "cell_type": "code",
      "source": [
        "symmetric_difference = set1.symmetric_difference(set2)\n",
        "print(set1.symmetric_difference(set2))"
      ],
      "metadata": {
        "colab": {
          "base_uri": "https://localhost:8080/"
        },
        "id": "OpPaXj5oabug",
        "outputId": "caa3cefb-da04-43d9-b57b-7a72092b6669"
      },
      "execution_count": 18,
      "outputs": [
        {
          "output_type": "stream",
          "name": "stdout",
          "text": [
            "{1, 4}\n"
          ]
        }
      ]
    },
    {
      "cell_type": "markdown",
      "source": [
        "**Example Use Case:**\n",
        "\n",
        "Suppose that you are having a list of names from which you want to get the unique names. You can do this easily using sets.\n"
      ],
      "metadata": {
        "id": "ZWN1gJafaoIp"
      }
    },
    {
      "cell_type": "code",
      "source": [
        "names=[\"Aditya\",\"Alia\",\"Ram\",\"Radhe\",\"Aditya\",\"Ram\"]\n",
        "unique_names = set(names)\n",
        "print(unique_names)"
      ],
      "metadata": {
        "colab": {
          "base_uri": "https://localhost:8080/"
        },
        "id": "gQ5ZlMi9ahSz",
        "outputId": "d0256227-b5ef-43da-d5bd-97d77388167e"
      },
      "execution_count": 20,
      "outputs": [
        {
          "output_type": "stream",
          "name": "stdout",
          "text": [
            "{'Aditya', 'Radhe', 'Alia', 'Ram'}\n"
          ]
        }
      ]
    },
    {
      "cell_type": "markdown",
      "source": [
        "Q.6 Discuss the use cases of tuples and sets in Python programming.\n",
        "\n",
        "Ans.Tuples and sets are two of the basic data structures in Python. Both of them have their own purposes.\n",
        "\n",
        " **Tuples:-**\n",
        "\n",
        " **Immutable Data:-**\n",
        "\n",
        " Tuples are ordered series of elements; just as lists, but the major difference is that they are immutable. That means once a tuple is created, one can't modify the contents thereof.\n",
        "\n",
        "**Data Integrity:-**\n",
        "  \n",
        "  The immutability of tuples makes them apt for storing data that shouldn't be changed, like coordinates, database records, or configuration settings.\n",
        "\n",
        " **Faster Than Lists:-**\n",
        "\n",
        "Due to their immutability, tuples are generally more efficient in terms of memory and performance compared with lists.\n",
        "\n",
        "**Dictionary Keys:-**\n",
        "\n",
        "Because keys need to be hashable, tuples can be used for dictionary keys, unlike lists.\n",
        "\n",
        "**Function Return Values:-**\n",
        "\n",
        "Tuples are used for function return values where there are multiple values to be returned. This is very useful where a function has more than one output.\n",
        "\n",
        "1.Returning multiple values from a function\n",
        "\n",
        "2.Creating dictionary keys\n",
        "\n",
        "3.Protecting data from accidental modification\n",
        "\n",
        "\n",
        "**Sets:-**\n",
        "\n",
        "**Distinct Elements:-**\n",
        "\n",
        "Sets are collections of distinct elements. Sets are unordered collections of distinct elements − They automatically eliminate duplicate values.\n",
        "\n",
        "**Membership Testing:-**\n",
        "\n",
        "They are optimized for checking whether an element is a member of a set. They support fast membership tests using the in operator.\n",
        "\n",
        "**Set Operations:-**\n",
        "\n",
        "They also support mathematical set operations like union, intersection, difference and symmetric difference.\n",
        "\n",
        "**Common use cases:-**\n",
        "\n",
        "1.Removing duplicates from a list\n",
        "\n",
        "2.Checking efficiently for membership (e.g., is a user in a list of allowed users?)\n",
        "\n",
        "3.Set operations to find common or unique elements between collections\n",
        "\n",
        "4.creating efficient data structures for tasks involving membership testing."
      ],
      "metadata": {
        "id": "lkcyXH7mgnbO"
      }
    },
    {
      "cell_type": "markdown",
      "source": [
        "Q.7 Describe how to add, modify, and delete items in a dictionary with examples.\n",
        "\n",
        "Ans.Items can be varied in the dictionary through the definition of keys and values and use of the methods such as del, pop, and popitem. He goes on the explain this as follows:\n",
        "\n",
        "**Adding items:-**\n",
        "\n",
        " • For addition of a single key-value pair: Dict[Key] = 'Value'."
      ],
      "metadata": {
        "id": "BUIrs64Ngl_4"
      }
    },
    {
      "cell_type": "code",
      "source": [
        "my_dict = {}\n",
        "my_dict[\"fruit\"] = \"apple\"\n",
        "print(my_dict)"
      ],
      "metadata": {
        "colab": {
          "base_uri": "https://localhost:8080/"
        },
        "id": "JlaPJuIkbF0d",
        "outputId": "35e979d7-cc6a-4918-8a56-696d724e4387"
      },
      "execution_count": 21,
      "outputs": [
        {
          "output_type": "stream",
          "name": "stdout",
          "text": [
            "{'fruit': 'apple'}\n"
          ]
        }
      ]
    },
    {
      "cell_type": "markdown",
      "source": [
        "• To add multiple key-value pairs from another dictionary: use the update() method."
      ],
      "metadata": {
        "id": "o3QuDXXclH7q"
      }
    },
    {
      "cell_type": "code",
      "source": [
        "another_dict = {\"vegetable\": \"carrot\"}\n",
        "my_dict.update(another_dict)\n",
        "print(my_dict)"
      ],
      "metadata": {
        "colab": {
          "base_uri": "https://localhost:8080/"
        },
        "id": "x9-2yae3lGNy",
        "outputId": "66eaf8f2-3cb7-4931-be5a-23e6fa7d34fb"
      },
      "execution_count": 22,
      "outputs": [
        {
          "output_type": "stream",
          "name": "stdout",
          "text": [
            "{'fruit': 'apple', 'vegetable': 'carrot'}\n"
          ]
        }
      ]
    },
    {
      "cell_type": "markdown",
      "source": [
        "**Modifying items:-**\n",
        "\n",
        "• It modifies an existing key by assigning a new value to it.In other words, assign to an existing key a new value to modify it.\n",
        "\n",
        "\n",
        "\n"
      ],
      "metadata": {
        "id": "PQXfJe1MlcMd"
      }
    },
    {
      "cell_type": "code",
      "source": [
        "my_dict[\"fruit\"] = \"banana\"\n",
        "print(my_dict)"
      ],
      "metadata": {
        "colab": {
          "base_uri": "https://localhost:8080/"
        },
        "id": "wNADSJEClQ_w",
        "outputId": "9e526479-a8a2-407a-b3fa-94a454868b2e"
      },
      "execution_count": 23,
      "outputs": [
        {
          "output_type": "stream",
          "name": "stdout",
          "text": [
            "{'fruit': 'banana', 'vegetable': 'carrot'}\n"
          ]
        }
      ]
    },
    {
      "cell_type": "markdown",
      "source": [
        "**Deleting items:-**\n",
        "\n",
        "• del keyword is used to delete an item according to the key."
      ],
      "metadata": {
        "id": "cFaEyzZqmAJ5"
      }
    },
    {
      "cell_type": "code",
      "source": [
        "del my_dict[\"fruit\"]\n",
        "print(my_dict)"
      ],
      "metadata": {
        "colab": {
          "base_uri": "https://localhost:8080/"
        },
        "id": "GQvJ67hEl8Mj",
        "outputId": "9946d9e4-c0db-4d48-edcd-b58056ab5ffd"
      },
      "execution_count": 24,
      "outputs": [
        {
          "output_type": "stream",
          "name": "stdout",
          "text": [
            "{'vegetable': 'carrot'}\n"
          ]
        }
      ]
    },
    {
      "cell_type": "markdown",
      "source": [
        "• Remove an item and get its value using the pop(key) method:"
      ],
      "metadata": {
        "id": "1iIiz5CimZVW"
      }
    },
    {
      "cell_type": "code",
      "source": [
        "my_dict={\"vegetable\":\"carrot\"}\n",
        "removed_item = my_dict.pop(\"vegetable\")\n",
        "print(removed_item)"
      ],
      "metadata": {
        "colab": {
          "base_uri": "https://localhost:8080/"
        },
        "id": "m81HvjCjmrif",
        "outputId": "00d686c9-804b-45b2-8642-5b057fae6f13"
      },
      "execution_count": 29,
      "outputs": [
        {
          "output_type": "stream",
          "name": "stdout",
          "text": [
            "carrot\n"
          ]
        }
      ]
    },
    {
      "cell_type": "code",
      "source": [
        "print(my_dict)"
      ],
      "metadata": {
        "colab": {
          "base_uri": "https://localhost:8080/"
        },
        "id": "Ggg3CIUJnA8f",
        "outputId": "f6a7da33-81d2-4ee3-bf4d-2f1a0b58e258"
      },
      "execution_count": 30,
      "outputs": [
        {
          "output_type": "stream",
          "name": "stdout",
          "text": [
            "{}\n"
          ]
        }
      ]
    },
    {
      "cell_type": "markdown",
      "source": [
        "• Remove and return the last key-value pair using popitem():\n"
      ],
      "metadata": {
        "id": "IfZ29RKinsG-"
      }
    },
    {
      "cell_type": "code",
      "source": [
        "my_dict={\"vegetable\":\"carrot\"}\n",
        "last_item = my_dict.popitem()\n",
        "print(last_item)"
      ],
      "metadata": {
        "colab": {
          "base_uri": "https://localhost:8080/"
        },
        "id": "iFqwfETXnl75",
        "outputId": "25ed81f9-9893-41be-f544-21e9dd9d0942"
      },
      "execution_count": 32,
      "outputs": [
        {
          "output_type": "stream",
          "name": "stdout",
          "text": [
            "('vegetable', 'carrot')\n"
          ]
        }
      ]
    },
    {
      "cell_type": "markdown",
      "source": [
        "**Important Notes:-**\n",
        "\n",
        "1. del raises a KeyError if the key is not present.\n",
        "\n",
        "2. pop takes the key as an argument and returns the value.\n",
        "\n",
        "3. The popitem() method removes and returns the last dictionary key-value pair in the form of tuple.\n",
        "\n",
        "There you have it. Now you can work with the content from your dictionaries in Python."
      ],
      "metadata": {
        "id": "OwkTpvDjoLbJ"
      }
    },
    {
      "cell_type": "markdown",
      "source": [
        " Q.8 Discuss the importance of dictionary keys being immutable and provide examples.\n",
        "\n",
        " Ans.To understand why dictionary keys must be immutable. Let's make a relation with the hash table. The hash table implementation of dictionaries uses a hash value calculated from the key value to find the key. For suppose the key was a mutable object, its value could change and thus its hash could also change.\n",
        "\n",
        "As above, since whoever changes the key object can't tell that it was being used as a dictionary key, it can't move the entry around in the dictionary. Then,\n",
        "\n",
        "When you try and lookup up the same object in the dictionary it won't be found because its hash value is different.\n",
        "\n",
        "If you were to look up the old value it would not be found either; for the value of the object found in that hash bin would not be the same. If you would like a dictionary indexed by a list, take the following steps− Convert the list to a tuple first The function tuple(myList) creates a tuple with the same entries as the list myList. Tuples are immutable and may therefore be used as dictionary keys.\n",
        "\n",
        "**Convert list to tuple**"
      ],
      "metadata": {
        "id": "XhpvJ5d7oT3O"
      }
    },
    {
      "cell_type": "code",
      "source": [
        "#Example\n",
        "#To convert List to Tuple, use the tuple() −\n",
        "# Creating a List\n",
        "mylist = [\"Prince\", \"Harry\", \"Mark\", \"Anthony\"]\n",
        "# Displaying the List\n",
        "print(\"List = \",mylist)"
      ],
      "metadata": {
        "colab": {
          "base_uri": "https://localhost:8080/"
        },
        "id": "fxI3ieOOJqA4",
        "outputId": "f24c3919-49f6-4185-f60c-c8436fa5697e"
      },
      "execution_count": 1,
      "outputs": [
        {
          "output_type": "stream",
          "name": "stdout",
          "text": [
            "List =  ['Prince', 'Harry', 'Mark', 'Anthony']\n"
          ]
        }
      ]
    },
    {
      "cell_type": "code",
      "source": [
        "# Convert List to Tuple\n",
        "res = tuple(mylist)\n",
        "print(\"Tuple = \",res)"
      ],
      "metadata": {
        "colab": {
          "base_uri": "https://localhost:8080/"
        },
        "id": "R1BfIiCLJ4EJ",
        "outputId": "fea345ad-94eb-4fe2-c041-33f82aea00db"
      },
      "execution_count": 2,
      "outputs": [
        {
          "output_type": "stream",
          "name": "stdout",
          "text": [
            "Tuple =  ('Prince', 'Harry', 'Mark', 'Anthony')\n"
          ]
        }
      ]
    },
    {
      "cell_type": "markdown",
      "source": [
        "**Tuple as Keys**"
      ],
      "metadata": {
        "id": "kB8-5EZdJ_9m"
      }
    },
    {
      "cell_type": "code",
      "source": [
        "#Example\n",
        "#Now, we will see an example where first we convert list to tuple, then tuple is set as keys −\n",
        "print(\"List = \",mylist)\n"
      ],
      "metadata": {
        "colab": {
          "base_uri": "https://localhost:8080/"
        },
        "id": "2oSWioA0J7bl",
        "outputId": "b2ffe8de-972e-4cc1-f1a1-a4b1626eecf1"
      },
      "execution_count": 3,
      "outputs": [
        {
          "output_type": "stream",
          "name": "stdout",
          "text": [
            "List =  ['Prince', 'Harry', 'Mark', 'Anthony']\n"
          ]
        }
      ]
    },
    {
      "cell_type": "code",
      "source": [
        "# Convert List to Tuple\n",
        "res = tuple(mylist)\n",
        "print(\"Tuple = \",res)"
      ],
      "metadata": {
        "colab": {
          "base_uri": "https://localhost:8080/"
        },
        "id": "lcgpMWgpKMWz",
        "outputId": "7bdbc088-f86c-4a6e-b108-ba9e48260a0d"
      },
      "execution_count": 4,
      "outputs": [
        {
          "output_type": "stream",
          "name": "stdout",
          "text": [
            "Tuple =  ('Prince', 'Harry', 'Mark', 'Anthony')\n"
          ]
        }
      ]
    },
    {
      "cell_type": "code",
      "source": [
        "dct = {2:\"num\",\"demo\":\"string\"}\n",
        "print(\"Dictionary = \")"
      ],
      "metadata": {
        "colab": {
          "base_uri": "https://localhost:8080/"
        },
        "id": "tIGrSr0SKP4J",
        "outputId": "241216fd-9541-4f3b-e281-848be8a2fc9c"
      },
      "execution_count": 5,
      "outputs": [
        {
          "output_type": "stream",
          "name": "stdout",
          "text": [
            "Dictionary = \n"
          ]
        }
      ]
    },
    {
      "cell_type": "code",
      "source": [
        "print(dct)\n"
      ],
      "metadata": {
        "colab": {
          "base_uri": "https://localhost:8080/"
        },
        "id": "RZDCVMhZKSyn",
        "outputId": "6a742220-e1e2-48d2-bde6-107631f526e4"
      },
      "execution_count": 6,
      "outputs": [
        {
          "output_type": "stream",
          "name": "stdout",
          "text": [
            "{2: 'num', 'demo': 'string'}\n"
          ]
        }
      ]
    },
    {
      "cell_type": "code",
      "source": [
        "# Overwrite existing value with a tuple\n",
        "dct[2]=res\n",
        "print(\"\\nUpdated Dictionary (Tuple as Key)...\")"
      ],
      "metadata": {
        "colab": {
          "base_uri": "https://localhost:8080/"
        },
        "id": "n8bS8dTjKUik",
        "outputId": "192f4e0b-6b03-41ef-9e1e-1f6383477413"
      },
      "execution_count": 7,
      "outputs": [
        {
          "output_type": "stream",
          "name": "stdout",
          "text": [
            "\n",
            "Updated Dictionary (Tuple as Key)...\n"
          ]
        }
      ]
    },
    {
      "cell_type": "code",
      "source": [
        "print(dct)"
      ],
      "metadata": {
        "colab": {
          "base_uri": "https://localhost:8080/"
        },
        "id": "KHzrhhE0KbxX",
        "outputId": "8758ba04-3cd6-4746-878f-c1634e08d10b"
      },
      "execution_count": 8,
      "outputs": [
        {
          "output_type": "stream",
          "name": "stdout",
          "text": [
            "{2: ('Prince', 'Harry', 'Mark', 'Anthony'), 'demo': 'string'}\n"
          ]
        }
      ]
    },
    {
      "cell_type": "code",
      "source": [],
      "metadata": {
        "id": "bxrAUYDeKd8a"
      },
      "execution_count": null,
      "outputs": []
    }
  ]
}